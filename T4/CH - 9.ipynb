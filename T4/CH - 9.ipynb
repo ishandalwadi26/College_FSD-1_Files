{
 "cells": [
  {
   "cell_type": "markdown",
   "metadata": {},
   "source": [
    "# CH - 9 Advanced OOPS and Numpy"
   ]
  },
  {
   "cell_type": "markdown",
   "metadata": {},
   "source": [
    "### Polymorphism\n",
    "    poly = many\n",
    "    morph = forms"
   ]
  },
  {
   "cell_type": "markdown",
   "metadata": {},
   "source": [
    "### Overloading - compile time polymorphism(not possible in python)\n",
    "    # It occurs in same class\n",
    "    # methods must have the same name and different parameters\n",
    "    # Python does not support method Overloading"
   ]
  },
  {
   "cell_type": "markdown",
   "metadata": {},
   "source": [
    "### Overriding - runtime polymorphism\n",
    "     # It occurs in deifferent classes via inheritance\n",
    "     # Methods must have same name and same parameters\n",
    "     # Python supports method Overriding"
   ]
  },
  {
   "cell_type": "markdown",
   "metadata": {},
   "source": [
    "### Examples of method Overloading"
   ]
  },
  {
   "cell_type": "code",
   "execution_count": 5,
   "metadata": {},
   "outputs": [
    {
     "name": "stdout",
     "output_type": "stream",
     "text": [
      "12\n"
     ]
    },
    {
     "ename": "TypeError",
     "evalue": "area() missing 1 required positional argument: 'b'",
     "output_type": "error",
     "traceback": [
      "\u001b[1;31m---------------------------------------------------------------------------\u001b[0m",
      "\u001b[1;31mTypeError\u001b[0m                                 Traceback (most recent call last)",
      "\u001b[1;32m<ipython-input-5-161f26278772>\u001b[0m in \u001b[0;36m<module>\u001b[1;34m\u001b[0m\n\u001b[0;32m      6\u001b[0m \u001b[0ms\u001b[0m \u001b[1;33m=\u001b[0m \u001b[0mShape\u001b[0m\u001b[1;33m(\u001b[0m\u001b[1;33m)\u001b[0m\u001b[1;33m\u001b[0m\u001b[1;33m\u001b[0m\u001b[0m\n\u001b[0;32m      7\u001b[0m \u001b[0mprint\u001b[0m\u001b[1;33m(\u001b[0m\u001b[0ms\u001b[0m\u001b[1;33m.\u001b[0m\u001b[0marea\u001b[0m\u001b[1;33m(\u001b[0m\u001b[1;36m3\u001b[0m\u001b[1;33m,\u001b[0m\u001b[1;36m4\u001b[0m\u001b[1;33m)\u001b[0m\u001b[1;33m)\u001b[0m\u001b[1;33m\u001b[0m\u001b[1;33m\u001b[0m\u001b[0m\n\u001b[1;32m----> 8\u001b[1;33m \u001b[0mprint\u001b[0m\u001b[1;33m(\u001b[0m\u001b[0ms\u001b[0m\u001b[1;33m.\u001b[0m\u001b[0marea\u001b[0m\u001b[1;33m(\u001b[0m\u001b[1;36m2\u001b[0m\u001b[1;33m,\u001b[0m\u001b[1;33m)\u001b[0m\u001b[1;33m)\u001b[0m\u001b[1;33m\u001b[0m\u001b[1;33m\u001b[0m\u001b[0m\n\u001b[0m",
      "\u001b[1;31mTypeError\u001b[0m: area() missing 1 required positional argument: 'b'"
     ]
    }
   ],
   "source": [
    "class Shape:\n",
    "    def area(self,a):\n",
    "        return 3.14*a*a\n",
    "    def area(self,a,b):\n",
    "        return a*b\n",
    "s = Shape()\n",
    "print(s.area(3,4))\n",
    "print(s.area(2,))"
   ]
  },
  {
   "cell_type": "code",
   "execution_count": 7,
   "metadata": {},
   "outputs": [
    {
     "ename": "TypeError",
     "evalue": "area() missing 1 required positional argument: 'b'",
     "output_type": "error",
     "traceback": [
      "\u001b[1;31m---------------------------------------------------------------------------\u001b[0m",
      "\u001b[1;31mTypeError\u001b[0m                                 Traceback (most recent call last)",
      "\u001b[1;32m<ipython-input-7-80662ada1d30>\u001b[0m in \u001b[0;36m<module>\u001b[1;34m\u001b[0m\n\u001b[0;32m      5\u001b[0m         \u001b[1;32mreturn\u001b[0m \u001b[0ma\u001b[0m\u001b[1;33m*\u001b[0m\u001b[0mb\u001b[0m\u001b[1;33m\u001b[0m\u001b[1;33m\u001b[0m\u001b[0m\n\u001b[0;32m      6\u001b[0m \u001b[0ms\u001b[0m \u001b[1;33m=\u001b[0m \u001b[0mShape\u001b[0m\u001b[1;33m(\u001b[0m\u001b[1;33m)\u001b[0m\u001b[1;33m\u001b[0m\u001b[1;33m\u001b[0m\u001b[0m\n\u001b[1;32m----> 7\u001b[1;33m \u001b[0mprint\u001b[0m\u001b[1;33m(\u001b[0m\u001b[0ms\u001b[0m\u001b[1;33m.\u001b[0m\u001b[0marea\u001b[0m\u001b[1;33m(\u001b[0m\u001b[1;36m2\u001b[0m\u001b[1;33m,\u001b[0m\u001b[1;33m)\u001b[0m\u001b[1;33m)\u001b[0m\u001b[1;33m\u001b[0m\u001b[1;33m\u001b[0m\u001b[0m\n\u001b[0m\u001b[0;32m      8\u001b[0m \u001b[0mprint\u001b[0m\u001b[1;33m(\u001b[0m\u001b[0ms\u001b[0m\u001b[1;33m.\u001b[0m\u001b[0marea\u001b[0m\u001b[1;33m(\u001b[0m\u001b[1;36m3\u001b[0m\u001b[1;33m,\u001b[0m\u001b[1;36m4\u001b[0m\u001b[1;33m)\u001b[0m\u001b[1;33m)\u001b[0m\u001b[1;33m\u001b[0m\u001b[1;33m\u001b[0m\u001b[0m\n",
      "\u001b[1;31mTypeError\u001b[0m: area() missing 1 required positional argument: 'b'"
     ]
    }
   ],
   "source": [
    "class Shape:\n",
    "    def area(self,a):\n",
    "        return 3.14*a*a\n",
    "    def area(self,a,b):\n",
    "        return a*b\n",
    "s = Shape()\n",
    "print(s.area(2,))\n",
    "print(s.area(3,4))"
   ]
  },
  {
   "cell_type": "code",
   "execution_count": 8,
   "metadata": {},
   "outputs": [
    {
     "name": "stdout",
     "output_type": "stream",
     "text": [
      "4\n",
      "12\n"
     ]
    }
   ],
   "source": [
    "class Shape:\n",
    "    def area(self,a):\n",
    "        return 3.14*a*a\n",
    "    def area(self,a,b):\n",
    "        return a*b\n",
    "s = Shape()\n",
    "print(s.area(2,2))\n",
    "print(s.area(3,4))"
   ]
  },
  {
   "cell_type": "markdown",
   "metadata": {},
   "source": [
    "### Explanation of Method Overriding"
   ]
  },
  {
   "cell_type": "code",
   "execution_count": 11,
   "metadata": {},
   "outputs": [
    {
     "name": "stdout",
     "output_type": "stream",
     "text": [
      "Addition =  5\n",
      "Multiplication =  6\n",
      "Addition =  5\n"
     ]
    }
   ],
   "source": [
    "class Add:\n",
    "    def result(self,a,b):\n",
    "        print(\"Addition = \",a+b)\n",
    "class Multi(Add):\n",
    "    def result(self,a,b):\n",
    "        super().result(a,b)\n",
    "        print(\"Multiplication = \",a*b)\n",
    "a = Multi()\n",
    "a.result(2,3)\n",
    "m = Add()\n",
    "m.result(2,3)"
   ]
  },
  {
   "cell_type": "code",
   "execution_count": 15,
   "metadata": {},
   "outputs": [
    {
     "name": "stdout",
     "output_type": "stream",
     "text": [
      "First Function of class A\n",
      "First Function of class B\n",
      "Second Function of class A\n",
      "Second Function of class A\n",
      "Display Function of class B\n"
     ]
    }
   ],
   "source": [
    "class A:\n",
    "    def first(self):\n",
    "        print(\"First Function of class A\")\n",
    "    def second(self):\n",
    "        print(\"Second Function of class A\")\n",
    "class B(A):\n",
    "    def first(self):\n",
    "        print(\"First Function of class B\")\n",
    "    def display(self):\n",
    "        print(\"Display Function of class B\")\n",
    "obj1 = A()\n",
    "obj2 = B()\n",
    "obj1.first()\n",
    "obj2.first()\n",
    "obj1.second()\n",
    "obj2.second()\n",
    "obj2.display()\n",
    "# obj1.display()"
   ]
  },
  {
   "cell_type": "markdown",
   "metadata": {},
   "source": [
    "### Explanation of Operator Overloading\n",
    "    --> Giving extended meaning beyond their predefined meaning"
   ]
  },
  {
   "cell_type": "code",
   "execution_count": 17,
   "metadata": {},
   "outputs": [
    {
     "name": "stdout",
     "output_type": "stream",
     "text": [
      "300\n"
     ]
    }
   ],
   "source": [
    "class A:\n",
    "    def __init__(self,x):\n",
    "        self.x = x\n",
    "    def __add__(self,other):\n",
    "        return self.x + other.x\n",
    "class B:\n",
    "    def __init__(self,x):\n",
    "        self.x = x\n",
    "a = A(100)\n",
    "b = B(200)\n",
    "print(a+b)"
   ]
  },
  {
   "cell_type": "code",
   "execution_count": 19,
   "metadata": {},
   "outputs": [
    {
     "name": "stdout",
     "output_type": "stream",
     "text": [
      "2\n",
      "HelloHi\n",
      "2\n",
      "HelloHi\n",
      "2\n",
      "HelloHi\n"
     ]
    }
   ],
   "source": [
    "class A:\n",
    "    def __init__(self,a):\n",
    "        self.a = a\n",
    "    def __add__(self,other):\n",
    "        return self.a+other.a\n",
    "obj1 = A(1)\n",
    "obj2 = A(1)\n",
    "obj3 = A(\"Hello\")\n",
    "obj4 = A(\"Hi\")\n",
    "print(obj1+obj2)\n",
    "print(obj3+obj4)\n",
    "print(A.__add__(obj1,obj2))\n",
    "print(A.__add__(obj3,obj4))\n",
    "print(obj1.__add__(obj2))\n",
    "print(obj3.__add__(obj4))"
   ]
  },
  {
   "cell_type": "code",
   "execution_count": 20,
   "metadata": {},
   "outputs": [
    {
     "name": "stdout",
     "output_type": "stream",
     "text": [
      "obj2 is greater than obj1\n"
     ]
    }
   ],
   "source": [
    "class A:\n",
    "    def __init__(self,a):\n",
    "        self.a = a\n",
    "    def __gt__(self,other):\n",
    "        if self.a > other.a:\n",
    "            return True\n",
    "        else:\n",
    "            return False\n",
    "obj1 = A(2)\n",
    "obj2 = A(3)\n",
    "\n",
    "if obj1 > obj2:\n",
    "    print(\"Obj1 is greater than obj2\")\n",
    "else:\n",
    "    print(\"obj2 is greater than obj1\")"
   ]
  },
  {
   "cell_type": "markdown",
   "metadata": {},
   "source": [
    "### Mathematical Operators\n",
    "    +\t__add__(self, other)\ta + b\n",
    "    -\t__sub__(self, other)\ta - b\n",
    "    *\t__mul__(self, other)\ta * b\n",
    "    /\t__truediv__(self, other)\ta / b\n",
    "    //\t__floordiv__(self, other)\ta // b\n",
    "    %\t__mod__(self, other)\ta % b\n",
    "    **\t__pow__(self, other)\ta ** b\n",
    "\n",
    "###  Comparision Operators\n",
    "    ==\t__eq__(self, other)\ta == b\n",
    "    !=\t__ne__(self, other)\ta != b\n",
    "    <\t__lt__(self, other)\ta < b\n",
    "    <=\t__le__(self, other)\ta <= b\n",
    "    >\t__gt__(self, other)\ta > b\n",
    "    >=\t__ge__(self, other)\ta >= b\n",
    "\n",
    "\n",
    "    [] (Indexing)\t__getitem__(self, key)\ta[key]\n",
    "    [] (Assignment)\t__setitem__(self, key, value)\ta[key] = value\n",
    "    len()\t__len__(self)\tlen(a)\n",
    "    str()\t__str__(self)\tstr(a)\n",
    "    repr()\t__repr__(self)\trepr(a)"
   ]
  },
  {
   "cell_type": "markdown",
   "metadata": {},
   "source": [
    "### Inheritance\n",
    "    --> Ability to inherit features or attributes from already written classes into newer classes we make\n",
    "    --> These features and attributes are defined data structures and the functions we can perform with them\n",
    "    --> It promotes code reusability"
   ]
  },
  {
   "cell_type": "markdown",
   "metadata": {},
   "source": [
    "### Single Inheritance"
   ]
  },
  {
   "cell_type": "code",
   "execution_count": 26,
   "metadata": {},
   "outputs": [
    {
     "name": "stdout",
     "output_type": "stream",
     "text": [
      "Hello Parent\n",
      "Hello Child\n"
     ]
    }
   ],
   "source": [
    "class parent:\n",
    "    def fun1(self):\n",
    "        print(\"Hello Parent\")\n",
    "class child(parent):\n",
    "    def fun2(self):\n",
    "        print(\"Hello Child\")\n",
    "test = child()\n",
    "test.fun1()\n",
    "test.fun2()"
   ]
  },
  {
   "cell_type": "code",
   "execution_count": 27,
   "metadata": {
    "scrolled": true
   },
   "outputs": [
    {
     "name": "stdout",
     "output_type": "stream",
     "text": [
      "Hello Parent\n",
      "Hello Child\n"
     ]
    }
   ],
   "source": [
    "class parent:\n",
    "    def fun1(self):\n",
    "        print(\"Hello Parent\")\n",
    "class child(parent):\n",
    "    def fun2(self):\n",
    "        super().fun1()\n",
    "        print(\"Hello Child\")\n",
    "test = child()\n",
    "test.fun2()"
   ]
  },
  {
   "cell_type": "code",
   "execution_count": 28,
   "metadata": {},
   "outputs": [
    {
     "name": "stdout",
     "output_type": "stream",
     "text": [
      "Hello Child\n",
      "Hello Parent\n"
     ]
    }
   ],
   "source": [
    "class parent:\n",
    "    def fun1(self):\n",
    "        print(\"Hello Parent\")\n",
    "class child(parent):\n",
    "    def fun2(self):\n",
    "        print(\"Hello Child\")\n",
    "        super().fun1()\n",
    "test = child()\n",
    "test.fun2()"
   ]
  },
  {
   "cell_type": "markdown",
   "metadata": {},
   "source": [
    "### Multiple Inheritance"
   ]
  },
  {
   "cell_type": "code",
   "execution_count": 29,
   "metadata": {},
   "outputs": [
    {
     "name": "stdout",
     "output_type": "stream",
     "text": [
      "Hello Parent 1\n",
      "Hello Parent 2\n",
      "Hello Child\n",
      "(<class '__main__.child'>, <class '__main__.parent1'>, <class '__main__.parent2'>, <class '__main__.parent3'>, <class 'object'>)\n"
     ]
    }
   ],
   "source": [
    "class parent1:\n",
    "    def fun1(self):\n",
    "        print(\"Hello Parent 1\")\n",
    "class parent2:\n",
    "    def fun2(self):\n",
    "        print(\"Hello Parent 2\")\n",
    "class parent3:\n",
    "    def fun2(self):\n",
    "        print(\"Hello Parent 3\")\n",
    "class child(parent1,parent2,parent3):\n",
    "    def fun3(self):\n",
    "        print(\"Hello Child\")\n",
    "test = child()\n",
    "test.fun1()\n",
    "test.fun2()\n",
    "test.fun3()\n",
    "print(child.__mro__)"
   ]
  },
  {
   "cell_type": "markdown",
   "metadata": {},
   "source": [
    "### Multi-Level Inheritance"
   ]
  },
  {
   "cell_type": "code",
   "execution_count": 3,
   "metadata": {},
   "outputs": [
    {
     "name": "stdout",
     "output_type": "stream",
     "text": [
      "Hello Grandfather\n",
      "Hello Parent\n",
      "Hello Child\n",
      "(<class '__main__.child'>, <class '__main__.parent'>, <class '__main__.grandparent'>, <class 'object'>)\n"
     ]
    }
   ],
   "source": [
    "class grandparent:\n",
    "    def fun1(self):\n",
    "        print(\"Hello Grandfather\")\n",
    "class parent(grandparent):\n",
    "    def fun2(self):\n",
    "        print(\"Hello Parent\")\n",
    "class child(parent):\n",
    "    def fun3(self):\n",
    "        print(\"Hello Child\")\n",
    "test = child()\n",
    "test.fun1()\n",
    "test.fun2()\n",
    "test.fun3()\n",
    "print(child.__mro__)"
   ]
  },
  {
   "cell_type": "markdown",
   "metadata": {},
   "source": [
    "### Hierarchical Inheritance"
   ]
  },
  {
   "cell_type": "code",
   "execution_count": 4,
   "metadata": {},
   "outputs": [
    {
     "name": "stdout",
     "output_type": "stream",
     "text": [
      "Hello Parent\n",
      "Hello Parent\n",
      "Hello Child1\n",
      "Hello Parent\n",
      "Hello Child2\n",
      "(<class '__main__.child1'>, <class '__main__.parent'>, <class 'object'>)\n",
      "(<class '__main__.child2'>, <class '__main__.parent'>, <class 'object'>)\n"
     ]
    }
   ],
   "source": [
    "class parent:\n",
    "    def fun1(self):\n",
    "        print(\"Hello Parent\")\n",
    "class child1(parent):\n",
    "    def fun2(self):\n",
    "        print(\"Hello Child1\")\n",
    "class child2(parent):\n",
    "    def fun3(self):\n",
    "        print(\"Hello Child2\")\n",
    "p_obj = parent()\n",
    "c1 = child1()\n",
    "c2 = child2()\n",
    "\n",
    "p_obj.fun1()\n",
    "c1.fun1()\n",
    "c1.fun2()\n",
    "c2.fun1()\n",
    "c2.fun3()\n",
    "print(child1.__mro__)\n",
    "print(child2.__mro__)"
   ]
  },
  {
   "cell_type": "markdown",
   "metadata": {},
   "source": [
    "### Hybrid Inheritance"
   ]
  },
  {
   "cell_type": "code",
   "execution_count": 6,
   "metadata": {},
   "outputs": [
    {
     "name": "stdout",
     "output_type": "stream",
     "text": [
      "Hello Parent1\n",
      "Hello Parent1\n",
      "Hello Parent2\n",
      "Hello Child1\n",
      "Hello Child2\n",
      "(<class '__main__.child1'>, <class '__main__.parent1'>, <class 'object'>)\n",
      "(<class '__main__.child2'>, <class '__main__.child1'>, <class '__main__.parent1'>, <class '__main__.parent2'>, <class 'object'>)\n",
      "[<class '__main__.parent1'>, <class 'object'>]\n"
     ]
    }
   ],
   "source": [
    "class parent1:\n",
    "    def fun1(self):\n",
    "        print(\"Hello Parent1\")\n",
    "class parent2:\n",
    "    def fun2(self):\n",
    "        print(\"Hello Parent2\")\n",
    "class child1(parent1):\n",
    "    def fun3(self):\n",
    "        print(\"Hello Child1\")\n",
    "class child2(child1,parent2):\n",
    "    def fun4(self):\n",
    "        print(\"Hello Child2\")\n",
    "test1 = child1()\n",
    "test2 = child2()\n",
    "\n",
    "test1.fun1()\n",
    "\n",
    "test2.fun1()\n",
    "test2.fun2()\n",
    "test2.fun3()\n",
    "test2.fun4()\n",
    "\n",
    "print(child1.__mro__)\n",
    "print(child2.__mro__)\n",
    "print(parent1.mro())"
   ]
  },
  {
   "cell_type": "markdown",
   "metadata": {},
   "source": [
    "### Super Function"
   ]
  },
  {
   "cell_type": "code",
   "execution_count": 13,
   "metadata": {},
   "outputs": [
    {
     "name": "stdout",
     "output_type": "stream",
     "text": [
      "50\n"
     ]
    }
   ],
   "source": [
    "class parent:\n",
    "    def __init__(self):\n",
    "        self.attr1 = 50\n",
    "        self.attr2 = 65\n",
    "class child(parent):\n",
    "    def __init__(self):\n",
    "        super().__init__()\n",
    "        self.attr3 = 45\n",
    "        parent.__init__(self)\n",
    "test = child()\n",
    "print(test.attr1)"
   ]
  },
  {
   "cell_type": "code",
   "execution_count": 1,
   "metadata": {},
   "outputs": [
    {
     "ename": "AttributeError",
     "evalue": "'child' object has no attribute 'attr1'",
     "output_type": "error",
     "traceback": [
      "\u001b[1;31m---------------------------------------------------------------------------\u001b[0m",
      "\u001b[1;31mAttributeError\u001b[0m                            Traceback (most recent call last)",
      "\u001b[1;32m<ipython-input-1-7eb99fb238b5>\u001b[0m in \u001b[0;36m<module>\u001b[1;34m\u001b[0m\n\u001b[0;32m      9\u001b[0m \u001b[1;31m#         parent.__init__(self)\u001b[0m\u001b[1;33m\u001b[0m\u001b[1;33m\u001b[0m\u001b[1;33m\u001b[0m\u001b[0m\n\u001b[0;32m     10\u001b[0m \u001b[0mtest\u001b[0m \u001b[1;33m=\u001b[0m \u001b[0mchild\u001b[0m\u001b[1;33m(\u001b[0m\u001b[1;33m)\u001b[0m\u001b[1;33m\u001b[0m\u001b[1;33m\u001b[0m\u001b[0m\n\u001b[1;32m---> 11\u001b[1;33m \u001b[0mprint\u001b[0m\u001b[1;33m(\u001b[0m\u001b[0mtest\u001b[0m\u001b[1;33m.\u001b[0m\u001b[0mattr1\u001b[0m\u001b[1;33m)\u001b[0m\u001b[1;33m\u001b[0m\u001b[1;33m\u001b[0m\u001b[0m\n\u001b[0m",
      "\u001b[1;31mAttributeError\u001b[0m: 'child' object has no attribute 'attr1'"
     ]
    }
   ],
   "source": [
    "class parent:\n",
    "    def __init__(self):\n",
    "        self.attr1 = 50\n",
    "        self.attr2 = 65\n",
    "class child():\n",
    "    def __init__(self):\n",
    "        super().__init__()\n",
    "        self.attr3 = 45\n",
    "#         parent.__init__(self)\n",
    "test = child()\n",
    "print(test.attr1)"
   ]
  },
  {
   "cell_type": "code",
   "execution_count": null,
   "metadata": {},
   "outputs": [],
   "source": [
    "class parent:\n",
    "    def __init__(self):\n",
    "        self.attr1 = 50\n",
    "        self.attr2 = 65\n",
    "class child():\n",
    "    def __init__(self):\n",
    "        parent.__init__(self)\n",
    "        self.attr3 = 45\n",
    "test = child()\n",
    "print(test.attr1)"
   ]
  },
  {
   "cell_type": "markdown",
   "metadata": {},
   "source": [
    "### issubclass() and isinstance()"
   ]
  },
  {
   "cell_type": "code",
   "execution_count": null,
   "metadata": {},
   "outputs": [],
   "source": [
    "class parent:\n",
    "    def fun1(self):\n",
    "        print(\"Hello Parent\")\n",
    "class child(parent):\n",
    "    def fun2(self):\n",
    "        print(\"Hello Child\")\n",
    "print(issubclass(child,parent))"
   ]
  },
  {
   "cell_type": "code",
   "execution_count": 5,
   "metadata": {},
   "outputs": [
    {
     "name": "stdout",
     "output_type": "stream",
     "text": [
      "bar from c2\n",
      "foo from p1\n",
      "(<class '__main__.GC'>, <class '__main__.c1'>, <class '__main__.p1'>, <class '__main__.c2'>, <class '__main__.p2'>, <class 'object'>)\n"
     ]
    }
   ],
   "source": [
    "class p1:\n",
    "    def foo(self):\n",
    "        print(\"foo from p1\")\n",
    "        \n",
    "class p2:\n",
    "    def foo(self):\n",
    "        print(\"foo from p2\")\n",
    "    def bar(self):\n",
    "        print(\"bar from p2\")\n",
    "\n",
    "class c1(p1):\n",
    "    pass\n",
    "class c2(p2):\n",
    "    def bar(self):\n",
    "        print(\"bar from c2\")\n",
    "        \n",
    "class GC(c1,c2):\n",
    "    pass\n",
    "\n",
    "gc = GC()\n",
    "gc.bar()\n",
    "gc.foo()\n",
    "print(GC.__mro__)\n"
   ]
  },
  {
   "cell_type": "code",
   "execution_count": 6,
   "metadata": {},
   "outputs": [
    {
     "name": "stdout",
     "output_type": "stream",
     "text": [
      "bar from c2\n",
      "foo from p1\n",
      "(<class '__main__.GC'>, <class '__main__.c1'>, <class '__main__.c2'>, <class '__main__.p1'>, <class 'object'>)\n"
     ]
    }
   ],
   "source": [
    "class p1:\n",
    "    def foo(self):\n",
    "        print(\"foo from p1\")\n",
    "        \n",
    "class p2:\n",
    "    def foo(self):\n",
    "        print(\"foo from p2\")\n",
    "    def bar(self):\n",
    "        print(\"bar from p2\")\n",
    "\n",
    "class c1(p1):\n",
    "    pass\n",
    "class c2(p1):\n",
    "    def bar(self):\n",
    "        print(\"bar from c2\")\n",
    "        \n",
    "class GC(c1,c2):\n",
    "    pass\n",
    "\n",
    "gc = GC()\n",
    "gc.bar()\n",
    "gc.foo()\n",
    "print(GC.__mro__)\n"
   ]
  },
  {
   "cell_type": "code",
   "execution_count": 7,
   "metadata": {},
   "outputs": [
    {
     "name": "stdout",
     "output_type": "stream",
     "text": [
      "bar from p2\n",
      "foo from p2\n",
      "(<class '__main__.GC'>, <class '__main__.c1'>, <class '__main__.p2'>, <class '__main__.c2'>, <class '__main__.p1'>, <class 'object'>)\n"
     ]
    }
   ],
   "source": [
    "class p1:\n",
    "    def foo(self):\n",
    "        print(\"foo from p1\")\n",
    "        \n",
    "class p2:\n",
    "    def foo(self):\n",
    "        print(\"foo from p2\")\n",
    "    def bar(self):\n",
    "        print(\"bar from p2\")\n",
    "\n",
    "class c1(p2):\n",
    "    pass\n",
    "class c2(p1):\n",
    "    def bar(self):\n",
    "        print(\"bar from c2\")\n",
    "        \n",
    "class GC(c1,c2):\n",
    "    pass\n",
    "\n",
    "gc = GC()\n",
    "gc.bar()\n",
    "gc.foo()\n",
    "print(GC.__mro__)\n"
   ]
  },
  {
   "cell_type": "code",
   "execution_count": 9,
   "metadata": {},
   "outputs": [
    {
     "name": "stdout",
     "output_type": "stream",
     "text": [
      "bar from c2\n",
      "foo from p1\n",
      "(<class '__main__.GC'>, <class '__main__.c1'>, <class '__main__.c2'>, <class '__main__.p1'>, <class '__main__.p2'>, <class 'object'>)\n"
     ]
    }
   ],
   "source": [
    "class p1:\n",
    "    def foo(self):\n",
    "        print(\"foo from p1\")\n",
    "        \n",
    "class p2:\n",
    "    def foo(self):\n",
    "        print(\"foo from p2\")\n",
    "    def bar(self):\n",
    "        print(\"bar from p2\")\n",
    "\n",
    "class c1(p1,p2):\n",
    "    pass\n",
    "class c2(p1,p2):\n",
    "    def bar(self):\n",
    "        print(\"bar from c2\")\n",
    "        \n",
    "class GC(c1,c2):\n",
    "    pass\n",
    "\n",
    "gc = GC()\n",
    "gc.bar()\n",
    "gc.foo()\n",
    "print(GC.__mro__)\n"
   ]
  },
  {
   "cell_type": "markdown",
   "metadata": {},
   "source": [
    "### Abstract Class\n",
    "- Abstraction is implemented using abstract class\n",
    "- Abstract class is created to declare a set of methods that must be created in any child class builton top of this abstract class\n",
    "- Abstract method doesn't have any implementation\n",
    "- Inheritance ABC class from module abc\n",
    "@abstractmethod"
   ]
  },
  {
   "cell_type": "code",
   "execution_count": 12,
   "metadata": {},
   "outputs": [
    {
     "name": "stdout",
     "output_type": "stream",
     "text": [
      "Draw circle\n"
     ]
    }
   ],
   "source": [
    "from abc import ABC,abstractmethod\n",
    "class shape(ABC):\n",
    "    def __init__(self,shape_name):\n",
    "        self.shape_name = shape_name\n",
    "        \n",
    "    @abstractmethod\n",
    "    def draw(self):\n",
    "        pass\n",
    "    \n",
    "class Circle(shape):\n",
    "    def __init__(self):\n",
    "        super().__init__(\"Circle\")\n",
    "    \n",
    "    def draw(self):\n",
    "        print(\"Draw circle\")\n",
    "        \n",
    "c = Circle()\n",
    "c.draw()"
   ]
  },
  {
   "cell_type": "code",
   "execution_count": 6,
   "metadata": {},
   "outputs": [
    {
     "name": "stdout",
     "output_type": "stream",
     "text": [
      "(<class '__main__.z'>, <class '__main__.k1'>, <class '__main__.c'>, <class '__main__.k3'>, <class '__main__.a'>, <class '__main__.k2'>, <class '__main__.b'>, <class '__main__.d'>, <class '__main__.f'>, <class '__main__.e'>, <class 'object'>)\n"
     ]
    }
   ],
   "source": [
    "class a: pass\n",
    "class b: pass\n",
    "class c: pass\n",
    "class d: pass\n",
    "class e: pass\n",
    "class f: pass\n",
    "class k1(c,a,b): pass\n",
    "class k3(a,d,f): pass\n",
    "class k2(b,d,e): pass\n",
    "class z(k1,k3,k2): pass\n",
    "print(z.__mro__)"
   ]
  },
  {
   "cell_type": "markdown",
   "metadata": {},
   "source": [
    "### WAP Create staff class take name and salary as data members , the derived class teaching has subject as data memeber and class no-teaching has department as its data member. the derived class method overwrites the methods of base class "
   ]
  },
  {
   "cell_type": "code",
   "execution_count": 5,
   "metadata": {},
   "outputs": [
    {
     "name": "stdout",
     "output_type": "stream",
     "text": [
      "This is the Staff class\n",
      "Name: Ishan\n",
      "Salary: 100000\n",
      "---------------------------\n",
      "This is the Non-Teaching class\n",
      "Name: Ishan\n",
      "Salary: 10000\n",
      "Department: IT\n",
      "---------------------------\n",
      "This is the Teaching class\n",
      "Name: ishan\n",
      "Salary: 3000000\n",
      "Subject: PY\n",
      "---------------------------\n"
     ]
    }
   ],
   "source": [
    "class Staff:\n",
    "    def __init__(self, name, salary):\n",
    "        self.name = name\n",
    "        self.salary = salary\n",
    "        \n",
    "    def display(self):\n",
    "        print(\"This is the Staff class\")\n",
    "        print(\"Name:\", self.name)\n",
    "        print(\"Salary:\", self.salary)\n",
    "        print(\"---------------------------\")\n",
    "        \n",
    "class Teaching(Staff):\n",
    "    def __init__(self, name, salary, subject):\n",
    "        super().__init__(name, salary) \n",
    "        self.subject = subject\n",
    "    \n",
    "    def display(self):\n",
    "        print(\"This is the Teaching class\")\n",
    "        print(\"Name:\", self.name)\n",
    "        print(\"Salary:\", self.salary)\n",
    "        print(\"Subject:\", self.subject)\n",
    "        print(\"---------------------------\")\n",
    "        \n",
    "class NonTeaching(Staff): \n",
    "    def __init__(self, name, salary, dep):\n",
    "        super().__init__(name, salary) \n",
    "        self.dep = dep\n",
    "    \n",
    "    def display(self):\n",
    "        print(\"This is the Non-Teaching class\")\n",
    "        print(\"Name:\", self.name)\n",
    "        print(\"Salary:\", self.salary)\n",
    "        print(\"Department:\", self.dep)\n",
    "        print(\"---------------------------\")\n",
    "\n",
    "st1 = Staff(\"Ishan\", 100000)\n",
    "st1.display()\n",
    "\n",
    "ob2 = NonTeaching(\"Ishan\", 10000, \"IT\")\n",
    "ob2.display()\n",
    "\n",
    "ob3 = Teaching(\"ishan\",3000000,\"PY\")\n",
    "ob3.display()"
   ]
  },
  {
   "cell_type": "markdown",
   "metadata": {},
   "source": [
    "### Create a class called Student, having name and email as its data membersandm init(self, name, email) and putdata(self) as bound methods. Theinit function should assign the values passed as parameters to the requisitevariables. The putdata function should display the data of the student.Create another class called PhDguide having name, email, and students asits data members. Here, the students variable is the list of students underthe guide. The PhDguide class should have four bound methods: init,putdata, add, and remove. The init method should initialize the variables,the putdata should show the data of the guide, include the list of students,the add method should add a student to the list of students of the guideand the remove function should remove the student (if the student existsin the list of students of that guide) from the list of students."
   ]
  },
  {
   "cell_type": "code",
   "execution_count": null,
   "metadata": {},
   "outputs": [],
   "source": [
    "class Person:\n",
    "    def __init__(self, name, email):\n",
    "        self.name = name\n",
    "        self.email = email\n",
    "    \n",
    "    def putdata(self):\n",
    "        print(\"Name:\", self.name)\n",
    "        print(\"Email:\", self.email)\n",
    "\n",
    "class Student(Person):\n",
    "    def __init__(self, name, email):\n",
    "        super().__init__(name, email)\n",
    "\n",
    "class PhDguide(Person):\n",
    "    def __init__(self, name, email):\n",
    "        super().__init__(name, email)\n",
    "        self.students = []\n",
    "    \n",
    "    def putdata(self):\n",
    "        super().putdata()\n",
    "        print(\"Students:\", [student.name for student in self.students])\n",
    "    \n",
    "    def add(self, student):\n",
    "        self.students.append(student)\n",
    "        print(f\"{student.name} has been added to the list of students.\")\n",
    "    \n",
    "    def remove(self, student):\n",
    "        if student in self.students:\n",
    "            self.students.remove(student)\n",
    "            print(f\"{student.name} has been removed from the list of students.\")\n",
    "        else:\n",
    "            print(f\"{student.name} is not in the list of students.\")\n",
    "\n",
    "student1 = Student(\"John Doe\", \"johndoe@example.com\")\n",
    "student1.putdata() \n",
    "\n",
    "guide1 = PhDguide(\"Jane Smith\", \"janesmith@example.com\")\n",
    "guide1.putdata() \n",
    "\n",
    "guide1.add(student1) \n",
    "guide1.putdata()  \n",
    "\n",
    "guide1.remove(student1)  \n",
    "guide1.putdata() "
   ]
  },
  {
   "cell_type": "markdown",
   "metadata": {},
   "source": [
    "### Create three Class Employee, Perks, NetSalary. Make an Employee class as an abstract class.Employee class should have methods for following tasks. - To get employee details like employee id,name and salary from user. - To print the Employee details. - return Salary. - An abstract methodemp_id. Perks class should have methods for following tasks. - To calculate DA, HRA, PF. - Toprint the individual and total of Perks (DA+HRA-PF). Netsalary class should have methods forfollowing tasks. - Calculate the total Salary after Perks. - Print employee detail also prints DA,HRA, PF and net salary.Note 1: DA-35%, HRA-17%, PF-12% Note 2: It is compulsory to create objects and demonstratingthe methods with Correct output. Example: Employee ID: 1 Employee Name: John EmployeeBasic Salary: 25000 DA: 8750.0 HRA: 4250.0 PF: 3000.0 Total Salary: 35000.0”\n"
   ]
  },
  {
   "cell_type": "code",
   "execution_count": 9,
   "metadata": {},
   "outputs": [
    {
     "name": "stdout",
     "output_type": "stream",
     "text": [
      "Enter Employee ID: 22\n",
      "Enter Employee Name: ishan\n",
      "Enter Employee Basic Salary: 1000000000\n",
      "\n",
      "Employee ID: 22\n",
      "Employee Name: ishan\n",
      "Employee Basic Salary: 1000000000.0\n",
      "\n",
      "DA: 350000000.0\n",
      "HRA: 170000000.0\n",
      "PF: 120000000.0\n",
      "Total Perks: 400000000.0\n",
      "Total Salary: 1400000000.0\n"
     ]
    }
   ],
   "source": [
    "from abc import ABC, abstractmethod\n",
    "\n",
    "class Employee(ABC):\n",
    "    def __init__(self):\n",
    "        self.emp_id = None\n",
    "        self.name = None\n",
    "        self.salary = None\n",
    "\n",
    "    def get_employee_details(self):\n",
    "        self.emp_id = int(input(\"Enter Employee ID: \"))\n",
    "        self.name = input(\"Enter Employee Name: \")\n",
    "        self.salary = float(input(\"Enter Employee Basic Salary: \"))\n",
    "        \n",
    "    @abstractmethod\n",
    "    def emp_id(self):\n",
    "        pass\n",
    "\n",
    "    def print_employee_details(self):\n",
    "        print(\"\\nEmployee ID:\", self.emp_id)\n",
    "        print(\"Employee Name:\", self.name)\n",
    "        print(\"Employee Basic Salary:\", self.salary)\n",
    "        \n",
    "    def get_salary(self):\n",
    "        return self.salary\n",
    "\n",
    "class Perks(Employee):\n",
    "    def __init__(self):\n",
    "        super().__init__()\n",
    "        self.da = 0\n",
    "        self.hra = 0\n",
    "        self.pf = 0\n",
    "\n",
    "    def calculate_perks(self):\n",
    "        self.da = 0.35 * self.salary\n",
    "        self.hra = 0.17 * self.salary\n",
    "        self.pf = 0.12 * self.salary\n",
    "\n",
    "    def print_perks(self):\n",
    "        print(\"\\nDA:\", self.da)\n",
    "        print(\"HRA:\", self.hra)\n",
    "        print(\"PF:\", self.pf)\n",
    "        print(\"Total Perks:\", self.da + self.hra - self.pf)\n",
    "\n",
    "class NetSalary(Perks):\n",
    "    def __init__(self):\n",
    "        super().__init__()\n",
    "        self.net_salary = 0\n",
    "\n",
    "    def calculate_net_salary(self):\n",
    "        self.net_salary = self.salary + self.da + self.hra - self.pf\n",
    "\n",
    "    def print_net_salary(self):\n",
    "        self.print_employee_details()\n",
    "        self.print_perks()\n",
    "        print(\"Total Salary:\", self.net_salary)\n",
    "\n",
    "    def emp_id(self):\n",
    "        pass\n",
    "\n",
    "employee = NetSalary()\n",
    "\n",
    "employee.get_employee_details()\n",
    "employee.calculate_perks()\n",
    "employee.calculate_net_salary()\n",
    "\n",
    "employee.print_net_salary()\n",
    "# employee.emp_id()"
   ]
  },
  {
   "cell_type": "code",
   "execution_count": 14,
   "metadata": {
    "scrolled": false
   },
   "outputs": [
    {
     "name": "stdout",
     "output_type": "stream",
     "text": [
      "Hdd 5000\n",
      "Want this item ? Y/Ny\n",
      "Enter No. ofHdd's :3\n",
      "\n",
      "Ram 2000\n",
      "Want this item ? Y/Nn\n",
      "\n",
      "Printer 600\n",
      "Want this item ? Y/Nn\n",
      "\n",
      "Pandrive 800\n",
      "Want this item ? Y/Nn\n",
      "\n",
      "1. Cash payment\n",
      "2. Cheque payment\n",
      "Enter payment method :2\n",
      "Enter Cheque No :123456\n",
      "Enter Bank name:yes bank\n",
      "\n",
      "Payment method is by cheque\n"
     ]
    },
    {
     "ename": "AttributeError",
     "evalue": "'ChequePayment' object has no attribute 'itmes'",
     "output_type": "error",
     "traceback": [
      "\u001b[1;31m---------------------------------------------------------------------------\u001b[0m",
      "\u001b[1;31mAttributeError\u001b[0m                            Traceback (most recent call last)",
      "\u001b[1;32m<ipython-input-14-61486b30b628>\u001b[0m in \u001b[0;36m<module>\u001b[1;34m\u001b[0m\n\u001b[0;32m     49\u001b[0m \u001b[1;33m\u001b[0m\u001b[0m\n\u001b[0;32m     50\u001b[0m \u001b[1;33m\u001b[0m\u001b[0m\n\u001b[1;32m---> 51\u001b[1;33m \u001b[0mcustomer\u001b[0m \u001b[1;33m=\u001b[0m \u001b[0mBill\u001b[0m\u001b[1;33m(\u001b[0m\u001b[1;33m)\u001b[0m\u001b[1;33m\u001b[0m\u001b[1;33m\u001b[0m\u001b[0m\n\u001b[0m",
      "\u001b[1;32m<ipython-input-14-61486b30b628>\u001b[0m in \u001b[0;36m__init__\u001b[1;34m(self)\u001b[0m\n\u001b[0;32m     20\u001b[0m             \u001b[0mcheque_no\u001b[0m \u001b[1;33m=\u001b[0m \u001b[0mint\u001b[0m\u001b[1;33m(\u001b[0m\u001b[0minput\u001b[0m\u001b[1;33m(\u001b[0m\u001b[1;34m\"Enter Cheque No :\"\u001b[0m\u001b[1;33m)\u001b[0m\u001b[1;33m)\u001b[0m\u001b[1;33m\u001b[0m\u001b[1;33m\u001b[0m\u001b[0m\n\u001b[0;32m     21\u001b[0m             \u001b[0mbank\u001b[0m \u001b[1;33m=\u001b[0m \u001b[0minput\u001b[0m\u001b[1;33m(\u001b[0m\u001b[1;34m\"Enter Bank name:\"\u001b[0m\u001b[1;33m)\u001b[0m\u001b[1;33m\u001b[0m\u001b[1;33m\u001b[0m\u001b[0m\n\u001b[1;32m---> 22\u001b[1;33m             \u001b[0mChequePayment\u001b[0m\u001b[1;33m(\u001b[0m\u001b[0mcheque_no\u001b[0m\u001b[1;33m,\u001b[0m\u001b[0mbank\u001b[0m\u001b[1;33m)\u001b[0m\u001b[1;33m\u001b[0m\u001b[1;33m\u001b[0m\u001b[0m\n\u001b[0m\u001b[0;32m     23\u001b[0m \u001b[1;33m\u001b[0m\u001b[0m\n\u001b[0;32m     24\u001b[0m \u001b[1;32mclass\u001b[0m \u001b[0mCashPayment\u001b[0m\u001b[1;33m(\u001b[0m\u001b[0mBill\u001b[0m\u001b[1;33m)\u001b[0m\u001b[1;33m:\u001b[0m\u001b[1;33m\u001b[0m\u001b[1;33m\u001b[0m\u001b[0m\n",
      "\u001b[1;32m<ipython-input-14-61486b30b628>\u001b[0m in \u001b[0;36m__init__\u001b[1;34m(self, cheque_no, bank)\u001b[0m\n\u001b[0;32m     42\u001b[0m         \u001b[0mprint\u001b[0m\u001b[1;33m(\u001b[0m\u001b[1;34m\"Payment method is by cheque\"\u001b[0m\u001b[1;33m)\u001b[0m\u001b[1;33m\u001b[0m\u001b[1;33m\u001b[0m\u001b[0m\n\u001b[0;32m     43\u001b[0m         \u001b[0msum\u001b[0m \u001b[1;33m=\u001b[0m \u001b[1;36m0\u001b[0m\u001b[1;33m\u001b[0m\u001b[1;33m\u001b[0m\u001b[0m\n\u001b[1;32m---> 44\u001b[1;33m         \u001b[1;32mfor\u001b[0m \u001b[0mi\u001b[0m\u001b[1;33m,\u001b[0m\u001b[0mj\u001b[0m \u001b[1;32min\u001b[0m  \u001b[0mself\u001b[0m\u001b[1;33m.\u001b[0m\u001b[0mitmes\u001b[0m\u001b[1;33m.\u001b[0m\u001b[0mitems\u001b[0m\u001b[1;33m(\u001b[0m\u001b[1;33m)\u001b[0m\u001b[1;33m:\u001b[0m\u001b[1;33m\u001b[0m\u001b[1;33m\u001b[0m\u001b[0m\n\u001b[0m\u001b[0;32m     45\u001b[0m             \u001b[0msum\u001b[0m\u001b[1;33m+=\u001b[0m\u001b[0mj\u001b[0m\u001b[1;33m\u001b[0m\u001b[1;33m\u001b[0m\u001b[0m\n\u001b[0;32m     46\u001b[0m         \u001b[0mprint\u001b[0m\u001b[1;33m(\u001b[0m\u001b[1;34m\"Total Amount to pay :\"\u001b[0m\u001b[1;33m,\u001b[0m\u001b[0msum\u001b[0m\u001b[1;33m)\u001b[0m\u001b[1;33m\u001b[0m\u001b[1;33m\u001b[0m\u001b[0m\n",
      "\u001b[1;31mAttributeError\u001b[0m: 'ChequePayment' object has no attribute 'itmes'"
     ]
    }
   ],
   "source": [
    "class Bill:\n",
    "    d = {\"Hdd\":5000,\"Ram\":2000,\"Printer\":600,\"Pandrive\":800}\n",
    "    items = {\"Hdd\":0,\"Ram\":0,\"Printer\":0,\"Pendrive\":0}\n",
    "    \n",
    "    for i,j in d.items():\n",
    "        print(i,j)\n",
    "        accept = input(\"Want this item ? Y/N\").upper()\n",
    "        if accept == \"Y\":\n",
    "            items[i] = int(input(\"Enter No. of\"+i+\"'s :\"))*d[i]\n",
    "        print()\n",
    "\n",
    "    def __init__(self):\n",
    "        print(\"1. Cash payment\")\n",
    "        print(\"2. Cheque payment\")\n",
    "        payment_method = int(input(\"Enter payment method :\"))\n",
    "        \n",
    "        if payment_method == 1:\n",
    "            CashPayment()\n",
    "        elif payment_method == 2:\n",
    "            cheque_no = int(input(\"Enter Cheque No :\"))\n",
    "            bank = input(\"Enter Bank name:\")\n",
    "            ChequePayment(cheque_no,bank)\n",
    "            \n",
    "class CashPayment(Bill):\n",
    "    def __init__(self):\n",
    "        print()\n",
    "        print(\"Payment Method is Cash\")\n",
    "        sum = 0\n",
    "        for i,j in self.items.items():\n",
    "            sum += j\n",
    "        print(\"Total Amount to pay :\",sum)\n",
    "        dic = {\"2000 Note\":2000,\"500 Note\":500,\"200 Note\":200,\"100 Note\":100,\"50 Note\":50,\"20 Note\":20,\"10 Note\":10}\n",
    "        print()\n",
    "        for i,j in dic.items():\n",
    "            if sum >= j:\n",
    "                print(i + \":\" + sum//j)\n",
    "                sum %= j\n",
    "    \n",
    "class ChequePayment(Bill):\n",
    "    def __init__(self,cheque_no,bank):\n",
    "        print()\n",
    "        print(\"Payment method is by cheque\")\n",
    "        sum = 0\n",
    "        for i,j in  self.itmes.items():\n",
    "            sum+=j\n",
    "        print(\"Total Amount to pay :\",sum)\n",
    "        print(\"Cheque no :\",cheque_no)\n",
    "        print(\"Bank name :\",bank)\n",
    "        \n",
    "        \n",
    "customer = Bill()"
   ]
  },
  {
   "cell_type": "code",
   "execution_count": 16,
   "metadata": {},
   "outputs": [
    {
     "name": "stdout",
     "output_type": "stream",
     "text": [
      "[1 2 3 4 6 7 8]\n",
      "[False  True  True]\n",
      "[[1 2 4]\n",
      " [3 4 5]\n",
      " [4 7 6]]\n",
      "\n",
      "[[[3 2 2]\n",
      "  [7 6 3]]\n",
      "\n",
      " [[6 7 8]\n",
      "  [9 9 4]]]\n"
     ]
    }
   ],
   "source": [
    "import numpy as np\n",
    "arr1 = np.array([1,2,6,4,7,8,3])\n",
    "print(np.sort(arr1))\n",
    "\n",
    "arr2 = np.array([True,False,True])\n",
    "print(np.sort(arr2))\n",
    "\n",
    "arr3 = np.array([[3,4,6],[1,7,4],[4,2,5]])\n",
    "print(np.sort(arr3,axis=0))\n",
    "print()\n",
    "arr4 = np.array([[[3,2,8],[7,9,3]],[[6,7,2],[9,6,4]]])\n",
    "print(np.sort(arr4,axis=0))"
   ]
  },
  {
   "cell_type": "code",
   "execution_count": null,
   "metadata": {},
   "outputs": [],
   "source": []
  }
 ],
 "metadata": {
  "kernelspec": {
   "display_name": "Python 3",
   "language": "python",
   "name": "python3"
  },
  "language_info": {
   "codemirror_mode": {
    "name": "ipython",
    "version": 3
   },
   "file_extension": ".py",
   "mimetype": "text/x-python",
   "name": "python",
   "nbconvert_exporter": "python",
   "pygments_lexer": "ipython3",
   "version": "3.8.5"
  }
 },
 "nbformat": 4,
 "nbformat_minor": 4
}
